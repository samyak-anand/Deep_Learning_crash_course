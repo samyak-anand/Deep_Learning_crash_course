{
 "cells": [
  {
   "cell_type": "code",
   "execution_count": 1,
   "metadata": {},
   "outputs": [],
   "source": [
    "# In this chapter we will talk about the how keras works."
   ]
  },
  {
   "cell_type": "code",
   "execution_count": 2,
   "metadata": {},
   "outputs": [],
   "source": [
    "from keras.datasets import boston_housing"
   ]
  },
  {
   "cell_type": "code",
   "execution_count": 3,
   "metadata": {},
   "outputs": [
    {
     "name": "stdout",
     "output_type": "stream",
     "text": [
      "Downloading data from https://storage.googleapis.com/tensorflow/tf-keras-datasets/boston_housing.npz\n",
      "\u001b[1m57026/57026\u001b[0m \u001b[32m━━━━━━━━━━━━━━━━━━━━\u001b[0m\u001b[37m\u001b[0m \u001b[1m0s\u001b[0m 7us/step\n"
     ]
    }
   ],
   "source": [
    "(x_train, y_train), (x_test, y_test)= boston_housing.load_data()"
   ]
  },
  {
   "cell_type": "code",
   "execution_count": 4,
   "metadata": {},
   "outputs": [
    {
     "name": "stdout",
     "output_type": "stream",
     "text": [
      "[[1.80846e+01 0.00000e+00 1.81000e+01 ... 2.02000e+01 2.72500e+01\n",
      "  2.90500e+01]\n",
      " [1.23290e-01 0.00000e+00 1.00100e+01 ... 1.78000e+01 3.94950e+02\n",
      "  1.62100e+01]\n",
      " [5.49700e-02 0.00000e+00 5.19000e+00 ... 2.02000e+01 3.96900e+02\n",
      "  9.74000e+00]\n",
      " ...\n",
      " [1.83377e+00 0.00000e+00 1.95800e+01 ... 1.47000e+01 3.89610e+02\n",
      "  1.92000e+00]\n",
      " [3.58090e-01 0.00000e+00 6.20000e+00 ... 1.74000e+01 3.91700e+02\n",
      "  9.71000e+00]\n",
      " [2.92400e+00 0.00000e+00 1.95800e+01 ... 1.47000e+01 2.40160e+02\n",
      "  9.81000e+00]]\n"
     ]
    }
   ],
   "source": [
    "print(x_test)"
   ]
  },
  {
   "cell_type": "code",
   "execution_count": 5,
   "metadata": {},
   "outputs": [
    {
     "name": "stdout",
     "output_type": "stream",
     "text": [
      "[[1.23247e+00 0.00000e+00 8.14000e+00 ... 2.10000e+01 3.96900e+02\n",
      "  1.87200e+01]\n",
      " [2.17700e-02 8.25000e+01 2.03000e+00 ... 1.47000e+01 3.95380e+02\n",
      "  3.11000e+00]\n",
      " [4.89822e+00 0.00000e+00 1.81000e+01 ... 2.02000e+01 3.75520e+02\n",
      "  3.26000e+00]\n",
      " ...\n",
      " [3.46600e-02 3.50000e+01 6.06000e+00 ... 1.69000e+01 3.62250e+02\n",
      "  7.83000e+00]\n",
      " [2.14918e+00 0.00000e+00 1.95800e+01 ... 1.47000e+01 2.61950e+02\n",
      "  1.57900e+01]\n",
      " [1.43900e-02 6.00000e+01 2.93000e+00 ... 1.56000e+01 3.76700e+02\n",
      "  4.38000e+00]]\n"
     ]
    }
   ],
   "source": [
    "print(x_train)"
   ]
  },
  {
   "cell_type": "code",
   "execution_count": null,
   "metadata": {},
   "outputs": [],
   "source": []
  }
 ],
 "metadata": {
  "kernelspec": {
   "display_name": ".venv",
   "language": "python",
   "name": "python3"
  },
  "language_info": {
   "codemirror_mode": {
    "name": "ipython",
    "version": 3
   },
   "file_extension": ".py",
   "mimetype": "text/x-python",
   "name": "python",
   "nbconvert_exporter": "python",
   "pygments_lexer": "ipython3",
   "version": "3.11.6"
  }
 },
 "nbformat": 4,
 "nbformat_minor": 2
}
